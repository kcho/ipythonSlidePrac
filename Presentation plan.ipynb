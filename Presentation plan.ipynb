{
 "cells": [
  {
   "cell_type": "markdown",
   "metadata": {
    "slideshow": {
     "slide_type": "slide"
    }
   },
   "source": [
    "# Neuroimaging : structural MRI introduction\n",
    "\n",
    "## 조강익"
   ]
  },
  {
   "cell_type": "markdown",
   "metadata": {
    "slideshow": {
     "slide_type": "slide"
    }
   },
   "source": []
  },
  {
   "cell_type": "markdown",
   "metadata": {
    "slideshow": {
     "slide_type": "subslide"
    }
   },
   "source": [
    "<img src=\"http://upload.wikimedia.org/wikipedia/commons/thumb/a/aa/South_Korea_location_map_topography_with_taebaek_mountains_marked.jpg/450px-South_Korea_location_map_topography_with_taebaek_mountains_marked.jpg\" width=600>\n",
    "img 출처 : wikipedia"
   ]
  },
  {
   "cell_type": "markdown",
   "metadata": {
    "slideshow": {
     "slide_type": "slide"
    }
   },
   "source": [
    "<img src=\"http://cfs13.tistory.com/original/24/tistory/2010/01/21/22/54/4b585c93aa18e\" width=600>\n",
    "img 출처 : http://cfs13.tistory.com"
   ]
  },
  {
   "cell_type": "markdown",
   "metadata": {
    "slideshow": {
     "slide_type": "slide"
    }
   },
   "source": [
    "<img src=\"wallington.png\" width=600>\n",
    "img 출처 : 구글맵 스트릿뷰"
   ]
  },
  {
   "cell_type": "markdown",
   "metadata": {
    "slideshow": {
     "slide_type": "slide"
    }
   },
   "source": [
    "<img src=\"wimbledon.png\" width=600>\n",
    "img 출처 : 구글맵 스트릿뷰"
   ]
  },
  {
   "cell_type": "markdown",
   "metadata": {
    "slideshow": {
     "slide_type": "slide"
    }
   },
   "source": [
    "<img src=\"http://www.newskorea.info/news/photo/200904/3052_4160_3256.jpg\" width=600>\n",
    "img 출처 : http://www.newskorea.info"
   ]
  },
  {
   "cell_type": "markdown",
   "metadata": {
    "slideshow": {
     "slide_type": "slide"
    }
   },
   "source": [
    "<img src=\"ccnc.png\" width=600>\n",
    "neuroimage.net"
   ]
  },
  {
   "cell_type": "markdown",
   "metadata": {
    "slideshow": {
     "slide_type": "slide"
    }
   },
   "source": [
    "<img src = \"http://sd.keepcalm-o-matic.co.uk/i/keep-calm-and-finish-the-phd-2.png\" width=400>\n",
    "img 출처 : http://sd.keepcalm-o-matic.co.uk"
   ]
  },
  {
   "cell_type": "markdown",
   "metadata": {
    "slideshow": {
     "slide_type": "slide"
    }
   },
   "source": [
    "<img src=\"dti.jpg\" width=800>"
   ]
  },
  {
   "cell_type": "markdown",
   "metadata": {
    "slideshow": {
     "slide_type": "slide"
    }
   },
   "source": [
    "<img src = \"http://pds5.egloos.com/pds/200704/20/76/e0005876_1004115.jpg\" width=600>\n",
    "img 출처 : http://pds5.egloos.com\n"
   ]
  },
  {
   "cell_type": "markdown",
   "metadata": {
    "slideshow": {
     "slide_type": "slide"
    }
   },
   "source": [
    "<img src=\"http://cfile27.uf.tistory.com/image/2541BE35530C6D7922CFB2\" width=600>\n",
    "##MR parameter / study design / functional MRI / 서버관리 / 데이타관리 등등"
   ]
  },
  {
   "cell_type": "markdown",
   "metadata": {
    "slideshow": {
     "slide_type": "slide"
    }
   },
   "source": [
    "# Contents\n",
    "\n",
    "##- MRI scan session\n",
    "##- Structural image vs functional image\n",
    "##- Structural image\n",
    "    - Types\n",
    "    - Preproessing\n",
    "    - Use\n",
    "        - In structural approach\n",
    "        - In functional approach   \n",
    "\n",
    "##- 실습"
   ]
  },
  {
   "cell_type": "markdown",
   "metadata": {},
   "source": [
    "# MRI scan session"
   ]
  },
  {
   "cell_type": "markdown",
   "metadata": {},
   "source": [
    "## Optimal MRI scan session sequence\n",
    "\n",
    "- Localizer (Scout)\n",
    "- Structural image\n",
    "- Field map\n",
    "- Functional image\n",
    "- Diffusion weighted image\n",
    "- Extra images"
   ]
  },
  {
   "cell_type": "markdown",
   "metadata": {},
   "source": [
    "## Problems\n",
    "- Rapo with subject\n",
    "    -\n",
    "- Rapo with MR technician\n",
    "    - 실무자의 파워\n",
    "- Subject motion\n",
    "    - 움직이면 쏜다...\n",
    "- Acquisition area check\n",
    "    - Vertex인가 cerebellum인가"
   ]
  },
  {
   "cell_type": "markdown",
   "metadata": {},
   "source": [
    "## Practical MRI scan session\n",
    "\n",
    "- MRI 선생님께 최대한 공손하게 인사\n",
    "- Consent forms + other information collection\n",
    "- Explain how important it is to stay still during scans\n",
    "- Remove metal / eye sight test\n",
    "- Explain how important it is to stay still during scans\n",
    "- Localizer (Scout)\n",
    "- Structural image\n",
    "- Field map\n",
    "- Explain how important it is to stay still during scans\n",
    "- Functional image\n",
    "- Diffusion weighted image\n",
    "- Extra images\n",
    "- Data collection"
   ]
  },
  {
   "cell_type": "markdown",
   "metadata": {},
   "source": [
    "## Structural image vs functional image"
   ]
  },
  {
   "cell_type": "markdown",
   "metadata": {},
   "source": [
    "### Resolution\n",
    "\n",
    "- #### Spatial resolution\n",
    "\n",
    "\n",
    "\n",
    "- #### Time resolution"
   ]
  },
  {
   "cell_type": "markdown",
   "metadata": {},
   "source": [
    "### Purpose\n",
    "\n",
    "|sMRI | fMRI\n",
    "---|---|---\n",
    "In separate analysis|생김새|기능\n",
    "When used together|위치제공|기능활성의 timeline제공\n",
    "\n"
   ]
  },
  {
   "cell_type": "markdown",
   "metadata": {},
   "source": [
    "### Example of '위치제공'\n",
    "\n",
    "- Region of interests\n",
    "- location of the activation"
   ]
  },
  {
   "cell_type": "markdown",
   "metadata": {},
   "source": [
    "## Structural image"
   ]
  },
  {
   "cell_type": "markdown",
   "metadata": {},
   "source": [
    "### Types\n",
    "\n",
    "- T1 & T2\n",
    "<img src=\"http://cfile27.uf.tistory.com/image/133C254E4E5C96AE35D7AF\" width=600>\n",
    "<br><br><br><br>\n",
    "- Diffusion weighted images\n",
    "<img src=\"http://cfile27.uf.tistory.com/image/133C254E4E5C96AE35D7AF\" width=600>\n",
    "<br><br><br><br>\n",
    "- Myelin images\n"
   ]
  },
  {
   "cell_type": "markdown",
   "metadata": {},
   "source": [
    "### Preprocessing\n",
    "\n",
    "- T1\n",
    "    - Freesurfer\n",
    "    - manual ROI\n",
    "- T2\n",
    "    - Freesurfer\n",
    "    - manual ROI\n",
    "- DWI\n",
    "    - Tensor calculation(Diffusion Tensor Imaging)\n",
    "    - Kurtosis calculation(Diffusion Kurtosis Imaging)\n",
    "    \n",
    "    \n",
    "    "
   ]
  },
  {
   "cell_type": "markdown",
   "metadata": {},
   "source": [
    "### Use\n",
    "\n",
    "\n",
    "|sMRI | images\n",
    "---|---|---\n",
    "In separate analysis|생김새|Cortical thickness, shape / volume analysis, white matter analysis\n",
    "When used with fMRI|위치제공|T1, T2, DTI to select specific structure\n",
    "\n",
    "\n"
   ]
  },
  {
   "cell_type": "markdown",
   "metadata": {},
   "source": [
    "# 실습"
   ]
  },
  {
   "cell_type": "markdown",
   "metadata": {},
   "source": [
    "\n",
    "# 1. Registration of T1 images to functional images\n",
    "# 2. Tensor calculation"
   ]
  }
 ],
 "metadata": {
  "celltoolbar": "Slideshow",
  "kernelspec": {
   "display_name": "Python 2",
   "language": "python",
   "name": "python2"
  },
  "language_info": {
   "codemirror_mode": {
    "name": "ipython",
    "version": 2
   },
   "file_extension": ".py",
   "mimetype": "text/x-python",
   "name": "python",
   "nbconvert_exporter": "python",
   "pygments_lexer": "ipython2",
   "version": "2.7.6"
  }
 },
 "nbformat": 4,
 "nbformat_minor": 0
}
